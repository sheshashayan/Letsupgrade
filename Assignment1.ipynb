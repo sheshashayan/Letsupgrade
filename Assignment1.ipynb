{
 "cells": [
  {
   "cell_type": "code",
   "execution_count": 15,
   "metadata": {},
   "outputs": [],
   "source": [
    "## *************************LIST & ITS DEFAULT FUCTIONS**************************"
   ]
  },
  {
   "cell_type": "code",
   "execution_count": 13,
   "metadata": {},
   "outputs": [
    {
     "name": "stdout",
     "output_type": "stream",
     "text": [
      "['Oneplus', 'Nokia', 'Apple', 'Samsung', 'Asus']\n"
     ]
    }
   ],
   "source": [
    "##To Append an element in the list\n",
    "mobBrands = [\"Oneplus\",\"Nokia\",\"Apple\",\"Samsung\"]\n",
    "mobBrands.append(\"Asus\");\n",
    "print(mobBrands);"
   ]
  },
  {
   "cell_type": "code",
   "execution_count": 2,
   "metadata": {},
   "outputs": [
    {
     "name": "stdout",
     "output_type": "stream",
     "text": [
      "['Oneplus', 'Motorola', 'Nokia', 'Apple', 'Samsung', 'Asus']\n"
     ]
    }
   ],
   "source": [
    "##To insert an element at a specified index\n",
    "mobBrands = [\"Oneplus\",\"Nokia\",\"Apple\",\"Samsung\",\"Asus\"]\n",
    "mobBrands.insert(1,\"Motorola\")\n",
    "print(mobBrands);"
   ]
  },
  {
   "cell_type": "code",
   "execution_count": 3,
   "metadata": {},
   "outputs": [
    {
     "name": "stdout",
     "output_type": "stream",
     "text": [
      "['Oneplus', 'Apple', 'Samsung', 'Asus']\n"
     ]
    }
   ],
   "source": [
    "##To Remove a particular item in a list\n",
    "mobBrands = [\"Oneplus\",\"Nokia\",\"Apple\",\"Samsung\",\"Asus\"]\n",
    "mobBrands.remove(\"Nokia\")\n",
    "print(mobBrands);"
   ]
  },
  {
   "cell_type": "code",
   "execution_count": 4,
   "metadata": {},
   "outputs": [
    {
     "name": "stdout",
     "output_type": "stream",
     "text": [
      "[10, 7, 8, 13, 15]\n"
     ]
    }
   ],
   "source": [
    "##To pop a element from List\n",
    "luckyNumber = [10,7,8,13,15,20]\n",
    "luckyNumber.pop()\n",
    "print(luckyNumber);"
   ]
  },
  {
   "cell_type": "code",
   "execution_count": 7,
   "metadata": {},
   "outputs": [
    {
     "name": "stdout",
     "output_type": "stream",
     "text": [
      "[]\n"
     ]
    }
   ],
   "source": [
    "## To Remove all the items using clear\n",
    "luckyNumber = [10,7,8,13,15,20]\n",
    "luckyNumber.clear()\n",
    "print(luckyNumber);"
   ]
  },
  {
   "cell_type": "code",
   "execution_count": 9,
   "metadata": {},
   "outputs": [
    {
     "name": "stdout",
     "output_type": "stream",
     "text": [
      "[89, 27, 18, 13, 15, 20, 78, 67, 56, 78]\n"
     ]
    }
   ],
   "source": [
    "## To Copy a List to another variable using copy\n",
    "luckyNumber = [89,27,18,13,15,20,78,67,56,78]\n",
    "copiedNumber = luckyNumber.copy()\n",
    "print(copiedNumber);"
   ]
  },
  {
   "cell_type": "code",
   "execution_count": 10,
   "metadata": {},
   "outputs": [
    {
     "name": "stdout",
     "output_type": "stream",
     "text": [
      "[89, 27, 18, 13, 15, 20, 78, 67, 56, 78]\n"
     ]
    }
   ],
   "source": [
    "## To Copy a List to another variable using copy\n",
    "luckyNumber = [89,27,18,13,15,20,78,67,56,78]\n",
    "copiedNumber = list(luckyNumber);\n",
    "print(copiedNumber);"
   ]
  },
  {
   "cell_type": "code",
   "execution_count": 12,
   "metadata": {},
   "outputs": [
    {
     "name": "stdout",
     "output_type": "stream",
     "text": [
      "['Oneplus', 'Nokia', 'Apple', 'Samsung', 'Asus', 10, 7, 8, 13, 15, 20]\n"
     ]
    }
   ],
   "source": [
    "## To Join two lists\n",
    "mobBrands = [\"Oneplus\",\"Nokia\",\"Apple\",\"Samsung\",\"Asus\"]\n",
    "luckyNumber = [10,7,8,13,15,20]\n",
    "mobBrands.extend(luckyNumber);\n",
    "print(mobBrands);"
   ]
  },
  {
   "cell_type": "code",
   "execution_count": null,
   "metadata": {},
   "outputs": [],
   "source": [
    "## *************************DICTIONARY & ITS DEFAULT FUCTIONS**************************"
   ]
  },
  {
   "cell_type": "code",
   "execution_count": 16,
   "metadata": {},
   "outputs": [
    {
     "name": "stdout",
     "output_type": "stream",
     "text": [
      "{'brand': 'ROYAL YARD', 'year': 1980}\n"
     ]
    }
   ],
   "source": [
    "## Pop an specified item from dictionary\n",
    "## From JS BACKGROUND Comfortable in creating dict like below that using dict.\n",
    "myCar = {\n",
    "  \"brand\": \"ROYAL YARD\",\n",
    "  \"model\": \"EMERALD\",\n",
    "  \"year\": 1980\n",
    "}\n",
    "myCar.pop(\"model\")\n",
    "print(myCar);"
   ]
  },
  {
   "cell_type": "code",
   "execution_count": 17,
   "metadata": {},
   "outputs": [
    {
     "name": "stdout",
     "output_type": "stream",
     "text": [
      "{'brand': 'ROYAL YARD', 'model': 'EMERALD'}\n"
     ]
    }
   ],
   "source": [
    "## pop the last item which is inserted\n",
    "myCar = {\n",
    "  \"brand\": \"ROYAL YARD\",\n",
    "  \"model\": \"EMERALD\",\n",
    "  \"year\": 1980\n",
    "}\n",
    "myCar.popitem()\n",
    "print(myCar);"
   ]
  },
  {
   "cell_type": "code",
   "execution_count": 21,
   "metadata": {},
   "outputs": [
    {
     "name": "stdout",
     "output_type": "stream",
     "text": [
      "{'model': 'EMERALD', 'year': [1980, 1970, 1960]}\n"
     ]
    }
   ],
   "source": [
    "## Delete a particular key-value pair from object using del command\n",
    "myCar = {\n",
    "  \"brand\": \"ROYAL YARD\",\n",
    "  \"model\": \"EMERALD\",\n",
    "  \"year\": [1980,1970,1960]\n",
    "}\n",
    "del myCar['brand']\n",
    "print(myCar);"
   ]
  },
  {
   "cell_type": "code",
   "execution_count": 25,
   "metadata": {},
   "outputs": [],
   "source": [
    "## Delete entire dict\n",
    "hisCar = {\n",
    "  \"brand\": \"AUDI\",\n",
    "  \"model\": \"E-S\",\n",
    "  \"year\": 2020\n",
    "}\n",
    "del hisCar\n",
    "### PRINTS ERROR COZ hisCar dict will be deleted"
   ]
  },
  {
   "cell_type": "code",
   "execution_count": 26,
   "metadata": {},
   "outputs": [
    {
     "name": "stdout",
     "output_type": "stream",
     "text": [
      "{}\n"
     ]
    }
   ],
   "source": [
    "## Clear the contents of an dict\n",
    "myCar = {\n",
    "  \"brand\": \"ROYAL YARD\",\n",
    "  \"model\": \"EMERALD\",\n",
    "  \"year\": [1980,1970,1960]\n",
    "}\n",
    "myCar.clear()\n",
    "print(myCar);"
   ]
  },
  {
   "cell_type": "code",
   "execution_count": 28,
   "metadata": {},
   "outputs": [
    {
     "name": "stdout",
     "output_type": "stream",
     "text": [
      "{'brand': 'ROYAL YARD', 'model': 'EMERALD', 'year': [1980, 1970, 1960]}\n"
     ]
    }
   ],
   "source": [
    "##Copy the contents of one dict to another dict\n",
    "myCar = {\n",
    "  \"brand\": \"ROYAL YARD\",\n",
    "  \"model\": \"EMERALD\",\n",
    "  \"year\": [1980,1970,1960]\n",
    "}\n",
    "hisCar = myCar.copy();\n",
    "print(hisCar);"
   ]
  },
  {
   "cell_type": "code",
   "execution_count": 30,
   "metadata": {},
   "outputs": [
    {
     "name": "stdout",
     "output_type": "stream",
     "text": [
      "[1980, 1970, 1960]\n"
     ]
    }
   ],
   "source": [
    "## Get the value of a Particular key using get\n",
    "myCar = {\n",
    "  \"brand\": \"ROYAL YARD\",\n",
    "  \"model\": \"EMERALD\",\n",
    "  \"year\": [1980,1970,1960]\n",
    "}\n",
    "hisCar = myCar.get('year');\n",
    "print(hisCar);"
   ]
  },
  {
   "cell_type": "code",
   "execution_count": 31,
   "metadata": {},
   "outputs": [
    {
     "name": "stdout",
     "output_type": "stream",
     "text": [
      "dict_keys(['brand', 'model', 'year'])\n"
     ]
    }
   ],
   "source": [
    "## Get the keys of an object\n",
    "myCar = {\n",
    "  \"brand\": \"ROYAL YARD\",\n",
    "  \"model\": \"EMERALD\",\n",
    "  \"year\": [1980,1970,1960]\n",
    "}\n",
    "hisCar = myCar.keys()\n",
    "print(hisCar);"
   ]
  },
  {
   "cell_type": "code",
   "execution_count": 32,
   "metadata": {},
   "outputs": [
    {
     "name": "stdout",
     "output_type": "stream",
     "text": [
      "dict_values(['ROYAL YARD', 'EMERALD', [1980, 1970, 1960]])\n"
     ]
    }
   ],
   "source": [
    "## Get the values of object\n",
    "myCar = {\n",
    "  \"brand\": \"ROYAL YARD\",\n",
    "  \"model\": \"EMERALD\",\n",
    "  \"year\": [1980,1970,1960]\n",
    "}\n",
    "hisCar = myCar.values()\n",
    "print(hisCar);"
   ]
  },
  {
   "cell_type": "code",
   "execution_count": 35,
   "metadata": {},
   "outputs": [
    {
     "name": "stdout",
     "output_type": "stream",
     "text": [
      "{'brand': 'ROYAL YARD', 'model': 'EMERALD', 'year': [1980, 1970, 1960], 'Color': 'Red'}\n"
     ]
    }
   ],
   "source": [
    "## append another key-value pair to an existing object\n",
    "myCar = {\n",
    "  \"brand\": \"ROYAL YARD\",\n",
    "  \"model\": \"EMERALD\",\n",
    "  \"year\": [1980,1970,1960]\n",
    "}\n",
    "myCar.update({\"Color\":\"Red\"})\n",
    "print(myCar);"
   ]
  },
  {
   "cell_type": "code",
   "execution_count": 36,
   "metadata": {},
   "outputs": [
    {
     "name": "stdout",
     "output_type": "stream",
     "text": [
      "dict_items([('brand', 'ROYAL YARD'), ('model', 'EMERALD'), ('year', [1980, 1970, 1960])])\n"
     ]
    }
   ],
   "source": [
    "## Get the items of a particular object\n",
    "myCar = {\n",
    "  \"brand\": \"ROYAL YARD\",\n",
    "  \"model\": \"EMERALD\",\n",
    "  \"year\": [1980,1970,1960]\n",
    "}\n",
    "\n",
    "print(myCar.items());"
   ]
  },
  {
   "cell_type": "code",
   "execution_count": 37,
   "metadata": {},
   "outputs": [
    {
     "name": "stdout",
     "output_type": "stream",
     "text": [
      "{'Emp1': ['Bengaluru', 'Whitefield'], 'Emp2': ['Bengaluru', 'Whitefield'], 'Emp3': ['Bengaluru', 'Whitefield']}\n"
     ]
    }
   ],
   "source": [
    "## IMP: assign the values present in one variable to the key present in another. It returns a dictionary.\n",
    "x = ('Emp1', 'Emp2', 'Emp3')\n",
    "y = [\"Bengaluru\",\"Whitefield\"]\n",
    "thisdict = dict.fromkeys(x, y)\n",
    "\n",
    "\n",
    "print(thisdict)"
   ]
  },
  {
   "cell_type": "code",
   "execution_count": 38,
   "metadata": {},
   "outputs": [
    {
     "name": "stdout",
     "output_type": "stream",
     "text": [
      "{'apple', 'banana', 'cherry', 'orange'}\n"
     ]
    }
   ],
   "source": [
    "## *************************SET & ITS DEFAULT FUCTIONS**************************\n",
    "## Adds an element to the set\n",
    "food = {\"apple\", \"banana\", \"cherry\"}\n",
    "food.add(\"orange\")\n",
    "print(food)"
   ]
  },
  {
   "cell_type": "code",
   "execution_count": 39,
   "metadata": {},
   "outputs": [
    {
     "name": "stdout",
     "output_type": "stream",
     "text": [
      "{'banana', 'grapes', 'orange', 'cherry', 'apple', 'mango'}\n"
     ]
    }
   ],
   "source": [
    "##Update the set with the union of this set and others\n",
    "food = {\"apple\", \"banana\", \"cherry\"}\n",
    "food.update([\"orange\", \"mango\", \"grapes\"])\n",
    "print(food)"
   ]
  },
  {
   "cell_type": "code",
   "execution_count": 40,
   "metadata": {},
   "outputs": [
    {
     "name": "stdout",
     "output_type": "stream",
     "text": [
      "set()\n"
     ]
    }
   ],
   "source": [
    "##Removes all the elements from the set\n",
    "food = {\"apple\", \"banana\", \"cherry\"}\n",
    "food.clear()\n",
    "print(food)"
   ]
  },
  {
   "cell_type": "code",
   "execution_count": 41,
   "metadata": {},
   "outputs": [
    {
     "name": "stdout",
     "output_type": "stream",
     "text": [
      "{'apple', 'banana', 'cherry'}\n"
     ]
    }
   ],
   "source": [
    "##Returns a copy of the set\n",
    "food = {\"apple\", \"banana\", \"cherry\"}\n",
    "x = food.copy()\n",
    "print(x)"
   ]
  },
  {
   "cell_type": "code",
   "execution_count": 43,
   "metadata": {},
   "outputs": [
    {
     "name": "stdout",
     "output_type": "stream",
     "text": [
      "{'apple', 'banana'}\n"
     ]
    }
   ],
   "source": [
    "##Returns a set containing the difference between two or more sets\n",
    "food = {\"apple\", \"banana\",\"orange\", \"cherry\"}\n",
    "color = {\"red\",\"orange\",\"cherry\"}\n",
    "print(food.difference(color))"
   ]
  },
  {
   "cell_type": "code",
   "execution_count": 47,
   "metadata": {},
   "outputs": [
    {
     "name": "stdout",
     "output_type": "stream",
     "text": [
      "{32, 34, 36, 28, 30}\n"
     ]
    }
   ],
   "source": [
    "##Removes the items in this set that are also included in another, specified set\n",
    "x = {24, 26, 28, 30, 32, 34, 36}\n",
    "y = {2, 4,6,8,10,24,26}\n",
    "\n",
    "x.difference_update(y)\n",
    "\n",
    "print(x)"
   ]
  },
  {
   "cell_type": "code",
   "execution_count": 51,
   "metadata": {},
   "outputs": [
    {
     "name": "stdout",
     "output_type": "stream",
     "text": [
      "{'Microsoft', 'Apple', 'GOOGLE'}\n"
     ]
    }
   ],
   "source": [
    "##Remove the specified item\n",
    "phones = {\"Huawei\", \"Apple\", \"Microsoft\", \"GOOGLE\"};\n",
    "phones.discard(\"Huawei\")\n",
    "print(phones)"
   ]
  },
  {
   "cell_type": "code",
   "execution_count": 53,
   "metadata": {},
   "outputs": [
    {
     "name": "stdout",
     "output_type": "stream",
     "text": [
      "{7, 8, 9, 10, 11}\n"
     ]
    }
   ],
   "source": [
    "##Returns a set, that is the intersection of two other sets\n",
    "x = {2,3,4,5,6,7,8,9,10,11}\n",
    "y = {7,8,9,10,11,12,13,14,15}\n",
    "\n",
    "z = x.intersection(y)\n",
    "\n",
    "print(z)"
   ]
  },
  {
   "cell_type": "code",
   "execution_count": 61,
   "metadata": {},
   "outputs": [
    {
     "name": "stdout",
     "output_type": "stream",
     "text": [
      "{'apple'}\n"
     ]
    }
   ],
   "source": [
    "## Removes the items in this set that are not present in other\n",
    "x = {\"apple\", \"banana\", \"cherry\"}\n",
    "y = {\"google\", \"microsoft\", \"apple\"}\n",
    "\n",
    "x.intersection_update(y)\n",
    "\n",
    "print(x)\n"
   ]
  },
  {
   "cell_type": "code",
   "execution_count": 62,
   "metadata": {},
   "outputs": [
    {
     "name": "stdout",
     "output_type": "stream",
     "text": [
      "True\n"
     ]
    }
   ],
   "source": [
    "x = {1,2,3,4,5}\n",
    "y = {13,14,15}\n",
    "\n",
    "z = x.isdisjoint(y) \n",
    "\n",
    "print(z)"
   ]
  },
  {
   "cell_type": "code",
   "execution_count": 63,
   "metadata": {},
   "outputs": [
    {
     "name": "stdout",
     "output_type": "stream",
     "text": [
      "False\n"
     ]
    }
   ],
   "source": [
    "x = {1,2,3,4,5}\n",
    "y = {13,14,15}\n",
    "\n",
    "z = x.issubset(y) \n",
    "\n",
    "print(z)"
   ]
  },
  {
   "cell_type": "code",
   "execution_count": 64,
   "metadata": {},
   "outputs": [
    {
     "name": "stdout",
     "output_type": "stream",
     "text": [
      "True\n"
     ]
    }
   ],
   "source": [
    "x = {1,2,15,3,4,5,13,14}\n",
    "y = {13,14,15}\n",
    "\n",
    "z = x.issuperset(y) \n",
    "\n",
    "print(z)"
   ]
  },
  {
   "cell_type": "code",
   "execution_count": 68,
   "metadata": {},
   "outputs": [
    {
     "name": "stdout",
     "output_type": "stream",
     "text": [
      "1\n",
      "{2, 3, 4, 5, 13, 14, 15}\n"
     ]
    }
   ],
   "source": [
    "x = {1,2,15,3,4,5,13,14}\n",
    "print(x.pop())\n",
    "print(x)"
   ]
  },
  {
   "cell_type": "code",
   "execution_count": 69,
   "metadata": {},
   "outputs": [
    {
     "name": "stdout",
     "output_type": "stream",
     "text": [
      "None\n",
      "{1, 2, 3, 4, 5, 13, 14}\n"
     ]
    }
   ],
   "source": [
    "x = {1,2,15,3,4,5,13,14}\n",
    "print(x.remove(15))\n",
    "print(x)"
   ]
  },
  {
   "cell_type": "code",
   "execution_count": 70,
   "metadata": {},
   "outputs": [
    {
     "name": "stdout",
     "output_type": "stream",
     "text": [
      "{'banana', 'microsoft', 'google', 'cherry'}\n"
     ]
    }
   ],
   "source": [
    "x = {\"apple\", \"banana\", \"cherry\"}\n",
    "y = {\"google\", \"microsoft\", \"apple\"}\n",
    "\n",
    "z = x.symmetric_difference(y) \n",
    "\n",
    "print(z)"
   ]
  },
  {
   "cell_type": "code",
   "execution_count": 72,
   "metadata": {},
   "outputs": [
    {
     "name": "stdout",
     "output_type": "stream",
     "text": [
      "{'banana', 'microsoft', 'google', 'cherry'}\n"
     ]
    }
   ],
   "source": [
    " x = {\"apple\", \"banana\", \"cherry\"}\n",
    "y = {\"google\", \"microsoft\", \"apple\"}\n",
    "\n",
    "z = x.symmetric_difference_update(y) \n",
    "\n",
    "print(x)"
   ]
  },
  {
   "cell_type": "code",
   "execution_count": 73,
   "metadata": {},
   "outputs": [
    {
     "name": "stdout",
     "output_type": "stream",
     "text": [
      "{1, 2, 3, 4, 5, 13, 14, 15}\n"
     ]
    }
   ],
   "source": [
    "x = {1,2,15,3,4,5,13,14}\n",
    "y = {13,14,15}\n",
    "\n",
    "z = x.union(y) \n",
    "\n",
    "print(z)"
   ]
  },
  {
   "cell_type": "code",
   "execution_count": 81,
   "metadata": {},
   "outputs": [
    {
     "name": "stdout",
     "output_type": "stream",
     "text": [
      "{1, 2, 3, 4, 5, 13, 14, 15, 45, 46, 47}\n"
     ]
    }
   ],
   "source": [
    "x = {1,2,15,3,4,5,13,14}\n",
    "y = {45,46,47}\n",
    "x.update(y)\n",
    "print(x )"
   ]
  },
  {
   "cell_type": "code",
   "execution_count": 83,
   "metadata": {},
   "outputs": [
    {
     "name": "stdout",
     "output_type": "stream",
     "text": [
      "1\n"
     ]
    }
   ],
   "source": [
    "## ************************Tuple & ITS DEFAULT FUCTIONS**************************\n",
    "##Count Number of Occurance in a Tuple\n",
    "cloud = (\"GoDaddy\",\"AWS\",\"Hasura\",\"Azure\",\"IBM\",\"GCP\")\n",
    "print(cloud.count(\"AWS\"))"
   ]
  },
  {
   "cell_type": "code",
   "execution_count": 84,
   "metadata": {},
   "outputs": [
    {
     "name": "stdout",
     "output_type": "stream",
     "text": [
      "4\n"
     ]
    }
   ],
   "source": [
    "##Returns the position of a Particular item searched \n",
    "cloud = (\"GoDaddy\",\"AWS\",\"Hasura\",\"Azure\",\"IBM\",\"GCP\")\n",
    "print(cloud.index(\"IBM\"))"
   ]
  },
  {
   "cell_type": "code",
   "execution_count": 85,
   "metadata": {},
   "outputs": [
    {
     "name": "stdout",
     "output_type": "stream",
     "text": [
      "6\n"
     ]
    }
   ],
   "source": [
    "## ************************Strings & ITS DEFAULT FUCTIONS**************************\n",
    "## find method finds the first occurrence of the specified value.\n",
    "Comm1 = \"ARMED MODE ENTER\"\n",
    "\n",
    "x = Comm1.find(\"MODE\")\n",
    "\n",
    "print(x)"
   ]
  },
  {
   "cell_type": "code",
   "execution_count": 88,
   "metadata": {},
   "outputs": [
    {
     "name": "stdout",
     "output_type": "stream",
     "text": [
      "Khadi * Karnataka * Made in India\n"
     ]
    }
   ],
   "source": [
    "##Joins the elements of an iterable to the end of the string\n",
    "myTuple = (\"Khadi \", \" Karnataka \" ,\" Made in India\")\n",
    "\n",
    "x = \"*\".join(myTuple)\n",
    "\n",
    "print(x)\n"
   ]
  },
  {
   "cell_type": "code",
   "execution_count": 89,
   "metadata": {},
   "outputs": [
    {
     "name": "stdout",
     "output_type": "stream",
     "text": [
      "Apple PHONES ARE BEST\n"
     ]
    }
   ],
   "source": [
    "##Returns a string where a specified value is replaced with a specified value\n",
    "txt = \"SAMSUNG PHONES ARE BEST\"\n",
    "\n",
    "x = txt.replace(\"SAMSUNG\", \"APPLE\")\n",
    "\n",
    "print(x)"
   ]
  },
  {
   "cell_type": "code",
   "execution_count": 91,
   "metadata": {},
   "outputs": [
    {
     "name": "stdout",
     "output_type": "stream",
     "text": [
      "I LOVE NEW DELHI\n"
     ]
    }
   ],
   "source": [
    "## Converts a string into upper case\n",
    "capital = \"i love new delhi\"\n",
    "\n",
    "x = capital.upper()\n",
    "\n",
    "print(x)"
   ]
  },
  {
   "cell_type": "code",
   "execution_count": 93,
   "metadata": {},
   "outputs": [
    {
     "name": "stdout",
     "output_type": "stream",
     "text": [
      "['arm', 'disarm', 'partarm', '']\n"
     ]
    }
   ],
   "source": [
    "##Splits the string at the specified separator, and returns a list\n",
    "txt = \"armeddisarmedpartarmed\"\n",
    "\n",
    "x = txt.split(\"ed\")\n",
    "\n",
    "print(x)"
   ]
  },
  {
   "cell_type": "code",
   "execution_count": null,
   "metadata": {},
   "outputs": [],
   "source": []
  }
 ],
 "metadata": {
  "kernelspec": {
   "display_name": "Python 3",
   "language": "python",
   "name": "python3"
  },
  "language_info": {
   "codemirror_mode": {
    "name": "ipython",
    "version": 3
   },
   "file_extension": ".py",
   "mimetype": "text/x-python",
   "name": "python",
   "nbconvert_exporter": "python",
   "pygments_lexer": "ipython3",
   "version": "3.8.3"
  }
 },
 "nbformat": 4,
 "nbformat_minor": 4
}
